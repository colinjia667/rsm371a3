{
 "cells": [
  {
   "cell_type": "code",
   "execution_count": 1,
   "metadata": {},
   "outputs": [],
   "source": [
    "# import required libraries\n",
    "import numpy as np\n",
    "import pandas as pd\n",
    "import matplotlib.pyplot as plt\n",
    "\n",
    "from pandas import read_csv\n",
    "\n",
    "# set the path to the data files\n",
    "path1 = 'OECD_GDP.csv'\n",
    "path2 = 'OECD_Trade.csv'\n",
    "\n",
    "# read the data files into pandas dataframes\n",
    "gdp = read_csv(path1)\n",
    "trade = read_csv(path2)\n",
    "\n"
   ]
  },
  {
   "cell_type": "markdown",
   "metadata": {},
   "source": [
    "### Cleaning GDP Dataframe"
   ]
  },
  {
   "cell_type": "code",
   "execution_count": 2,
   "metadata": {},
   "outputs": [
    {
     "data": {
      "text/html": [
       "<div>\n",
       "<style scoped>\n",
       "    .dataframe tbody tr th:only-of-type {\n",
       "        vertical-align: middle;\n",
       "    }\n",
       "\n",
       "    .dataframe tbody tr th {\n",
       "        vertical-align: top;\n",
       "    }\n",
       "\n",
       "    .dataframe thead th {\n",
       "        text-align: right;\n",
       "    }\n",
       "</style>\n",
       "<table border=\"1\" class=\"dataframe\">\n",
       "  <thead>\n",
       "    <tr style=\"text-align: right;\">\n",
       "      <th></th>\n",
       "      <th>LOCATION</th>\n",
       "      <th>Country</th>\n",
       "      <th>TRANSACT</th>\n",
       "      <th>Transaction</th>\n",
       "      <th>MEASURE</th>\n",
       "      <th>Measure</th>\n",
       "      <th>TIME</th>\n",
       "      <th>Year</th>\n",
       "      <th>Unit Code</th>\n",
       "      <th>Unit</th>\n",
       "      <th>PowerCode Code</th>\n",
       "      <th>PowerCode</th>\n",
       "      <th>Reference Period Code</th>\n",
       "      <th>Reference Period</th>\n",
       "      <th>Value</th>\n",
       "      <th>Flag Codes</th>\n",
       "      <th>Flags</th>\n",
       "    </tr>\n",
       "  </thead>\n",
       "  <tbody>\n",
       "    <tr>\n",
       "      <th>0</th>\n",
       "      <td>AUS</td>\n",
       "      <td>Australia</td>\n",
       "      <td>B1_GA</td>\n",
       "      <td>Gross domestic product (output approach)</td>\n",
       "      <td>CXC</td>\n",
       "      <td>Current prices, current exchange rates</td>\n",
       "      <td>2010</td>\n",
       "      <td>2010</td>\n",
       "      <td>USD</td>\n",
       "      <td>US Dollar</td>\n",
       "      <td>6</td>\n",
       "      <td>Millions</td>\n",
       "      <td>NaN</td>\n",
       "      <td>NaN</td>\n",
       "      <td>1.299463e+06</td>\n",
       "      <td>NaN</td>\n",
       "      <td>NaN</td>\n",
       "    </tr>\n",
       "    <tr>\n",
       "      <th>1</th>\n",
       "      <td>AUS</td>\n",
       "      <td>Australia</td>\n",
       "      <td>B1_GA</td>\n",
       "      <td>Gross domestic product (output approach)</td>\n",
       "      <td>CXC</td>\n",
       "      <td>Current prices, current exchange rates</td>\n",
       "      <td>2011</td>\n",
       "      <td>2011</td>\n",
       "      <td>USD</td>\n",
       "      <td>US Dollar</td>\n",
       "      <td>6</td>\n",
       "      <td>Millions</td>\n",
       "      <td>NaN</td>\n",
       "      <td>NaN</td>\n",
       "      <td>1.546689e+06</td>\n",
       "      <td>NaN</td>\n",
       "      <td>NaN</td>\n",
       "    </tr>\n",
       "    <tr>\n",
       "      <th>2</th>\n",
       "      <td>AUS</td>\n",
       "      <td>Australia</td>\n",
       "      <td>B1_GA</td>\n",
       "      <td>Gross domestic product (output approach)</td>\n",
       "      <td>CXC</td>\n",
       "      <td>Current prices, current exchange rates</td>\n",
       "      <td>2012</td>\n",
       "      <td>2012</td>\n",
       "      <td>USD</td>\n",
       "      <td>US Dollar</td>\n",
       "      <td>6</td>\n",
       "      <td>Millions</td>\n",
       "      <td>NaN</td>\n",
       "      <td>NaN</td>\n",
       "      <td>1.590708e+06</td>\n",
       "      <td>NaN</td>\n",
       "      <td>NaN</td>\n",
       "    </tr>\n",
       "    <tr>\n",
       "      <th>3</th>\n",
       "      <td>AUS</td>\n",
       "      <td>Australia</td>\n",
       "      <td>B1_GA</td>\n",
       "      <td>Gross domestic product (output approach)</td>\n",
       "      <td>CXC</td>\n",
       "      <td>Current prices, current exchange rates</td>\n",
       "      <td>2013</td>\n",
       "      <td>2013</td>\n",
       "      <td>USD</td>\n",
       "      <td>US Dollar</td>\n",
       "      <td>6</td>\n",
       "      <td>Millions</td>\n",
       "      <td>NaN</td>\n",
       "      <td>NaN</td>\n",
       "      <td>1.543216e+06</td>\n",
       "      <td>NaN</td>\n",
       "      <td>NaN</td>\n",
       "    </tr>\n",
       "    <tr>\n",
       "      <th>4</th>\n",
       "      <td>AUS</td>\n",
       "      <td>Australia</td>\n",
       "      <td>B1_GA</td>\n",
       "      <td>Gross domestic product (output approach)</td>\n",
       "      <td>CXC</td>\n",
       "      <td>Current prices, current exchange rates</td>\n",
       "      <td>2014</td>\n",
       "      <td>2014</td>\n",
       "      <td>USD</td>\n",
       "      <td>US Dollar</td>\n",
       "      <td>6</td>\n",
       "      <td>Millions</td>\n",
       "      <td>NaN</td>\n",
       "      <td>NaN</td>\n",
       "      <td>1.464256e+06</td>\n",
       "      <td>NaN</td>\n",
       "      <td>NaN</td>\n",
       "    </tr>\n",
       "  </tbody>\n",
       "</table>\n",
       "</div>"
      ],
      "text/plain": [
       "  LOCATION    Country TRANSACT                               Transaction  \\\n",
       "0      AUS  Australia    B1_GA  Gross domestic product (output approach)   \n",
       "1      AUS  Australia    B1_GA  Gross domestic product (output approach)   \n",
       "2      AUS  Australia    B1_GA  Gross domestic product (output approach)   \n",
       "3      AUS  Australia    B1_GA  Gross domestic product (output approach)   \n",
       "4      AUS  Australia    B1_GA  Gross domestic product (output approach)   \n",
       "\n",
       "  MEASURE                                 Measure  TIME  Year Unit Code  \\\n",
       "0     CXC  Current prices, current exchange rates  2010  2010       USD   \n",
       "1     CXC  Current prices, current exchange rates  2011  2011       USD   \n",
       "2     CXC  Current prices, current exchange rates  2012  2012       USD   \n",
       "3     CXC  Current prices, current exchange rates  2013  2013       USD   \n",
       "4     CXC  Current prices, current exchange rates  2014  2014       USD   \n",
       "\n",
       "        Unit  PowerCode Code PowerCode  Reference Period Code  \\\n",
       "0  US Dollar               6  Millions                    NaN   \n",
       "1  US Dollar               6  Millions                    NaN   \n",
       "2  US Dollar               6  Millions                    NaN   \n",
       "3  US Dollar               6  Millions                    NaN   \n",
       "4  US Dollar               6  Millions                    NaN   \n",
       "\n",
       "   Reference Period         Value Flag Codes Flags  \n",
       "0               NaN  1.299463e+06        NaN   NaN  \n",
       "1               NaN  1.546689e+06        NaN   NaN  \n",
       "2               NaN  1.590708e+06        NaN   NaN  \n",
       "3               NaN  1.543216e+06        NaN   NaN  \n",
       "4               NaN  1.464256e+06        NaN   NaN  "
      ]
     },
     "execution_count": 2,
     "metadata": {},
     "output_type": "execute_result"
    }
   ],
   "source": [
    "gdp.head()"
   ]
  },
  {
   "cell_type": "code",
   "execution_count": 3,
   "metadata": {},
   "outputs": [
    {
     "data": {
      "text/plain": [
       "Index(['LOCATION', 'Country', 'TRANSACT', 'Transaction', 'MEASURE', 'Measure',\n",
       "       'TIME', 'Year', 'Unit Code', 'Unit', 'PowerCode Code', 'PowerCode',\n",
       "       'Reference Period Code', 'Reference Period', 'Value', 'Flag Codes',\n",
       "       'Flags'],\n",
       "      dtype='object')"
      ]
     },
     "execution_count": 3,
     "metadata": {},
     "output_type": "execute_result"
    }
   ],
   "source": [
    "gdp.columns"
   ]
  },
  {
   "cell_type": "code",
   "execution_count": 4,
   "metadata": {},
   "outputs": [],
   "source": [
    "# Drop unnecessary columns from the gdp dataframe\n",
    "gdp = gdp.drop(columns=['TRANSACT', 'Transaction', 'MEASURE', 'Measure', 'Year', 'Unit Code', 'Unit', 'Reference Period Code', 'Reference Period', 'Flag Codes', 'Flags'])"
   ]
  },
  {
   "cell_type": "code",
   "execution_count": 5,
   "metadata": {},
   "outputs": [],
   "source": [
    "# Multiply the GDP values by 1,000,000 to convert to real GDP values\n",
    "gdp['Value'] = gdp['Value']*1000000"
   ]
  },
  {
   "cell_type": "code",
   "execution_count": 6,
   "metadata": {},
   "outputs": [],
   "source": [
    "# Drop PowerCode Code and PowerCode columns from the GDP dataframe\n",
    "gdp = gdp.drop(columns=['PowerCode Code', 'PowerCode'])"
   ]
  },
  {
   "cell_type": "code",
   "execution_count": 7,
   "metadata": {},
   "outputs": [],
   "source": [
    "# Rename remaining columns in the GDP dataframe to more meaningful names\n",
    "gdp.columns = ['CountryCode', 'Country', 'Year', 'GDP']"
   ]
  },
  {
   "cell_type": "code",
   "execution_count": 8,
   "metadata": {},
   "outputs": [],
   "source": [
    "# Drop European Union from the GDP dataframe to avoid double counting\n",
    "gdp = gdp[gdp['Country'] != 'European Union (28 countries)']"
   ]
  },
  {
   "cell_type": "markdown",
   "metadata": {},
   "source": [
    "### Cleaning TRADE Dataframe"
   ]
  },
  {
   "cell_type": "code",
   "execution_count": 9,
   "metadata": {},
   "outputs": [
    {
     "data": {
      "text/html": [
       "<div>\n",
       "<style scoped>\n",
       "    .dataframe tbody tr th:only-of-type {\n",
       "        vertical-align: middle;\n",
       "    }\n",
       "\n",
       "    .dataframe tbody tr th {\n",
       "        vertical-align: top;\n",
       "    }\n",
       "\n",
       "    .dataframe thead th {\n",
       "        text-align: right;\n",
       "    }\n",
       "</style>\n",
       "<table border=\"1\" class=\"dataframe\">\n",
       "  <thead>\n",
       "    <tr style=\"text-align: right;\">\n",
       "      <th></th>\n",
       "      <th>LOCATION</th>\n",
       "      <th>Reporter country</th>\n",
       "      <th>FLOW</th>\n",
       "      <th>Flow</th>\n",
       "      <th>PARTNER</th>\n",
       "      <th>Partner country</th>\n",
       "      <th>FREQUENCY</th>\n",
       "      <th>Frequency</th>\n",
       "      <th>TIME</th>\n",
       "      <th>Time</th>\n",
       "      <th>Unit Code</th>\n",
       "      <th>Unit</th>\n",
       "      <th>PowerCode Code</th>\n",
       "      <th>PowerCode</th>\n",
       "      <th>Reference Period Code</th>\n",
       "      <th>Reference Period</th>\n",
       "      <th>Value</th>\n",
       "      <th>Flag Codes</th>\n",
       "      <th>Flags</th>\n",
       "    </tr>\n",
       "  </thead>\n",
       "  <tbody>\n",
       "    <tr>\n",
       "      <th>0</th>\n",
       "      <td>AUS</td>\n",
       "      <td>Australia</td>\n",
       "      <td>EXP</td>\n",
       "      <td>Exports</td>\n",
       "      <td>AUT</td>\n",
       "      <td>Austria</td>\n",
       "      <td>A</td>\n",
       "      <td>Annual</td>\n",
       "      <td>2011</td>\n",
       "      <td>2011</td>\n",
       "      <td>USD</td>\n",
       "      <td>US Dollar</td>\n",
       "      <td>0</td>\n",
       "      <td>Units</td>\n",
       "      <td>NaN</td>\n",
       "      <td>NaN</td>\n",
       "      <td>73144918</td>\n",
       "      <td>NaN</td>\n",
       "      <td>NaN</td>\n",
       "    </tr>\n",
       "    <tr>\n",
       "      <th>1</th>\n",
       "      <td>AUS</td>\n",
       "      <td>Australia</td>\n",
       "      <td>EXP</td>\n",
       "      <td>Exports</td>\n",
       "      <td>AUT</td>\n",
       "      <td>Austria</td>\n",
       "      <td>A</td>\n",
       "      <td>Annual</td>\n",
       "      <td>2012</td>\n",
       "      <td>2012</td>\n",
       "      <td>USD</td>\n",
       "      <td>US Dollar</td>\n",
       "      <td>0</td>\n",
       "      <td>Units</td>\n",
       "      <td>NaN</td>\n",
       "      <td>NaN</td>\n",
       "      <td>71483059</td>\n",
       "      <td>NaN</td>\n",
       "      <td>NaN</td>\n",
       "    </tr>\n",
       "    <tr>\n",
       "      <th>2</th>\n",
       "      <td>AUS</td>\n",
       "      <td>Australia</td>\n",
       "      <td>EXP</td>\n",
       "      <td>Exports</td>\n",
       "      <td>AUT</td>\n",
       "      <td>Austria</td>\n",
       "      <td>A</td>\n",
       "      <td>Annual</td>\n",
       "      <td>2013</td>\n",
       "      <td>2013</td>\n",
       "      <td>USD</td>\n",
       "      <td>US Dollar</td>\n",
       "      <td>0</td>\n",
       "      <td>Units</td>\n",
       "      <td>NaN</td>\n",
       "      <td>NaN</td>\n",
       "      <td>67897422</td>\n",
       "      <td>NaN</td>\n",
       "      <td>NaN</td>\n",
       "    </tr>\n",
       "    <tr>\n",
       "      <th>3</th>\n",
       "      <td>AUS</td>\n",
       "      <td>Australia</td>\n",
       "      <td>EXP</td>\n",
       "      <td>Exports</td>\n",
       "      <td>AUT</td>\n",
       "      <td>Austria</td>\n",
       "      <td>A</td>\n",
       "      <td>Annual</td>\n",
       "      <td>2014</td>\n",
       "      <td>2014</td>\n",
       "      <td>USD</td>\n",
       "      <td>US Dollar</td>\n",
       "      <td>0</td>\n",
       "      <td>Units</td>\n",
       "      <td>NaN</td>\n",
       "      <td>NaN</td>\n",
       "      <td>61114752</td>\n",
       "      <td>NaN</td>\n",
       "      <td>NaN</td>\n",
       "    </tr>\n",
       "    <tr>\n",
       "      <th>4</th>\n",
       "      <td>AUS</td>\n",
       "      <td>Australia</td>\n",
       "      <td>EXP</td>\n",
       "      <td>Exports</td>\n",
       "      <td>AUT</td>\n",
       "      <td>Austria</td>\n",
       "      <td>A</td>\n",
       "      <td>Annual</td>\n",
       "      <td>2015</td>\n",
       "      <td>2015</td>\n",
       "      <td>USD</td>\n",
       "      <td>US Dollar</td>\n",
       "      <td>0</td>\n",
       "      <td>Units</td>\n",
       "      <td>NaN</td>\n",
       "      <td>NaN</td>\n",
       "      <td>54730242</td>\n",
       "      <td>NaN</td>\n",
       "      <td>NaN</td>\n",
       "    </tr>\n",
       "  </tbody>\n",
       "</table>\n",
       "</div>"
      ],
      "text/plain": [
       "  LOCATION Reporter country FLOW     Flow PARTNER Partner country FREQUENCY  \\\n",
       "0      AUS        Australia  EXP  Exports     AUT         Austria         A   \n",
       "1      AUS        Australia  EXP  Exports     AUT         Austria         A   \n",
       "2      AUS        Australia  EXP  Exports     AUT         Austria         A   \n",
       "3      AUS        Australia  EXP  Exports     AUT         Austria         A   \n",
       "4      AUS        Australia  EXP  Exports     AUT         Austria         A   \n",
       "\n",
       "  Frequency  TIME  Time Unit Code       Unit  PowerCode Code PowerCode  \\\n",
       "0    Annual  2011  2011       USD  US Dollar               0     Units   \n",
       "1    Annual  2012  2012       USD  US Dollar               0     Units   \n",
       "2    Annual  2013  2013       USD  US Dollar               0     Units   \n",
       "3    Annual  2014  2014       USD  US Dollar               0     Units   \n",
       "4    Annual  2015  2015       USD  US Dollar               0     Units   \n",
       "\n",
       "   Reference Period Code  Reference Period     Value  Flag Codes  Flags  \n",
       "0                    NaN               NaN  73144918         NaN    NaN  \n",
       "1                    NaN               NaN  71483059         NaN    NaN  \n",
       "2                    NaN               NaN  67897422         NaN    NaN  \n",
       "3                    NaN               NaN  61114752         NaN    NaN  \n",
       "4                    NaN               NaN  54730242         NaN    NaN  "
      ]
     },
     "execution_count": 9,
     "metadata": {},
     "output_type": "execute_result"
    }
   ],
   "source": [
    "trade.head()"
   ]
  },
  {
   "cell_type": "code",
   "execution_count": 10,
   "metadata": {},
   "outputs": [
    {
     "data": {
      "text/plain": [
       "Index(['LOCATION', 'Reporter country', 'FLOW', 'Flow', 'PARTNER',\n",
       "       'Partner country', 'FREQUENCY', 'Frequency', 'TIME', 'Time',\n",
       "       'Unit Code', 'Unit', 'PowerCode Code', 'PowerCode',\n",
       "       'Reference Period Code', 'Reference Period', 'Value', 'Flag Codes',\n",
       "       'Flags'],\n",
       "      dtype='object')"
      ]
     },
     "execution_count": 10,
     "metadata": {},
     "output_type": "execute_result"
    }
   ],
   "source": [
    "trade.columns"
   ]
  },
  {
   "cell_type": "code",
   "execution_count": 11,
   "metadata": {},
   "outputs": [],
   "source": [
    "# Drop unnecessary columns from the trade Dataframe\n",
    "trade = trade.drop(columns=['Flow', 'FREQUENCY', 'Frequency', 'TIME', 'Unit Code', 'Unit', 'PowerCode Code', 'PowerCode', 'Reference Period Code', 'Reference Period', 'Flag Codes', 'Flags'])"
   ]
  },
  {
   "cell_type": "code",
   "execution_count": 12,
   "metadata": {},
   "outputs": [
    {
     "name": "stdout",
     "output_type": "stream",
     "text": [
      "<class 'pandas.core.frame.DataFrame'>\n",
      "RangeIndex: 29222 entries, 0 to 29221\n",
      "Data columns (total 7 columns):\n",
      " #   Column            Non-Null Count  Dtype \n",
      "---  ------            --------------  ----- \n",
      " 0   LOCATION          29222 non-null  object\n",
      " 1   Reporter country  29222 non-null  object\n",
      " 2   FLOW              29222 non-null  object\n",
      " 3   PARTNER           29222 non-null  object\n",
      " 4   Partner country   29222 non-null  object\n",
      " 5   Time              29222 non-null  int64 \n",
      " 6   Value             29222 non-null  int64 \n",
      "dtypes: int64(2), object(5)\n",
      "memory usage: 1.6+ MB\n"
     ]
    }
   ],
   "source": [
    "trade.info()"
   ]
  },
  {
   "cell_type": "code",
   "execution_count": 13,
   "metadata": {},
   "outputs": [
    {
     "data": {
      "text/plain": [
       "array(['AUS', 'AUT', 'BEL', 'CAN', 'CZE', 'DNK', 'FIN', 'FRA', 'DEU',\n",
       "       'GRC', 'HUN', 'ISL', 'IRL', 'ITA', 'JPN', 'KOR', 'LUX', 'MEX',\n",
       "       'NLD', 'NZL', 'NOR', 'POL', 'PRT', 'SVK', 'ESP', 'SWE', 'CHE',\n",
       "       'TUR', 'GBR', 'USA', 'CHL', 'EST', 'ISR', 'SVN', 'LTU', 'LVA',\n",
       "       'EU28'], dtype=object)"
      ]
     },
     "execution_count": 13,
     "metadata": {},
     "output_type": "execute_result"
    }
   ],
   "source": [
    "trade['LOCATION'].unique()"
   ]
  },
  {
   "cell_type": "code",
   "execution_count": 14,
   "metadata": {},
   "outputs": [],
   "source": [
    "# Drop European Union from the trade dataframe to avoid double counting\n",
    "trade = trade[trade['LOCATION'] != 'EU28']"
   ]
  },
  {
   "cell_type": "code",
   "execution_count": 15,
   "metadata": {},
   "outputs": [],
   "source": [
    "# Renaming the columns in the trade dataframe to more meaningful names\n",
    "trade.columns = ['CountryCode', 'Country', 'TradeType', 'PartnerCountryCode', 'PartnerCountry', 'Year', 'TradeValue']"
   ]
  },
  {
   "cell_type": "code",
   "execution_count": 16,
   "metadata": {},
   "outputs": [
    {
     "data": {
      "text/plain": [
       "array(['Austria', 'Belgium', 'Canada', 'Czech Republic', 'Denmark',\n",
       "       'Finland', 'France', 'Germany', 'Greece', 'Hungary', 'Iceland',\n",
       "       'Ireland', 'Italy', 'Japan', 'Korea', 'Luxembourg', 'Mexico',\n",
       "       'Netherlands', 'New Zealand', 'Norway', 'Poland', 'Portugal',\n",
       "       'Slovak Republic', 'Spain', 'Sweden', 'Switzerland', 'Turkey',\n",
       "       'United Kingdom', 'United States', 'Argentina', 'Brazil', 'Chile',\n",
       "       \"China (People's Republic of)\", 'Estonia', 'India', 'Indonesia',\n",
       "       'Israel', 'Russia', 'Saudi Arabia', 'Slovenia', 'South Africa',\n",
       "       'Australia', 'OECD - Total', 'G20', 'Latvia', 'Lithuania',\n",
       "       'Costa Rica', 'Colombia'], dtype=object)"
      ]
     },
     "execution_count": 16,
     "metadata": {},
     "output_type": "execute_result"
    }
   ],
   "source": [
    "trade['PartnerCountry'].unique()"
   ]
  },
  {
   "cell_type": "code",
   "execution_count": 17,
   "metadata": {},
   "outputs": [],
   "source": [
    "# Remove 'OECD - Total' row and 'G20' row from the trade dataframe to avoid double counting\n",
    "trade = trade[trade['PartnerCountry'] != 'OECD - Total']\n",
    "trade = trade[trade['PartnerCountry'] != 'G20']"
   ]
  },
  {
   "cell_type": "code",
   "execution_count": 18,
   "metadata": {},
   "outputs": [
    {
     "data": {
      "text/html": [
       "<div>\n",
       "<style scoped>\n",
       "    .dataframe tbody tr th:only-of-type {\n",
       "        vertical-align: middle;\n",
       "    }\n",
       "\n",
       "    .dataframe tbody tr th {\n",
       "        vertical-align: top;\n",
       "    }\n",
       "\n",
       "    .dataframe thead th {\n",
       "        text-align: right;\n",
       "    }\n",
       "</style>\n",
       "<table border=\"1\" class=\"dataframe\">\n",
       "  <thead>\n",
       "    <tr style=\"text-align: right;\">\n",
       "      <th></th>\n",
       "      <th>CountryCode</th>\n",
       "      <th>Country</th>\n",
       "      <th>TradeType</th>\n",
       "      <th>PartnerCountryCode</th>\n",
       "      <th>PartnerCountry</th>\n",
       "      <th>Year</th>\n",
       "      <th>TradeValue</th>\n",
       "    </tr>\n",
       "  </thead>\n",
       "  <tbody>\n",
       "    <tr>\n",
       "      <th>0</th>\n",
       "      <td>AUS</td>\n",
       "      <td>Australia</td>\n",
       "      <td>EXP</td>\n",
       "      <td>AUT</td>\n",
       "      <td>Austria</td>\n",
       "      <td>2011</td>\n",
       "      <td>73144918</td>\n",
       "    </tr>\n",
       "    <tr>\n",
       "      <th>1</th>\n",
       "      <td>AUS</td>\n",
       "      <td>Australia</td>\n",
       "      <td>EXP</td>\n",
       "      <td>AUT</td>\n",
       "      <td>Austria</td>\n",
       "      <td>2012</td>\n",
       "      <td>71483059</td>\n",
       "    </tr>\n",
       "    <tr>\n",
       "      <th>2</th>\n",
       "      <td>AUS</td>\n",
       "      <td>Australia</td>\n",
       "      <td>EXP</td>\n",
       "      <td>AUT</td>\n",
       "      <td>Austria</td>\n",
       "      <td>2013</td>\n",
       "      <td>67897422</td>\n",
       "    </tr>\n",
       "    <tr>\n",
       "      <th>3</th>\n",
       "      <td>AUS</td>\n",
       "      <td>Australia</td>\n",
       "      <td>EXP</td>\n",
       "      <td>AUT</td>\n",
       "      <td>Austria</td>\n",
       "      <td>2014</td>\n",
       "      <td>61114752</td>\n",
       "    </tr>\n",
       "    <tr>\n",
       "      <th>4</th>\n",
       "      <td>AUS</td>\n",
       "      <td>Australia</td>\n",
       "      <td>EXP</td>\n",
       "      <td>AUT</td>\n",
       "      <td>Austria</td>\n",
       "      <td>2015</td>\n",
       "      <td>54730242</td>\n",
       "    </tr>\n",
       "  </tbody>\n",
       "</table>\n",
       "</div>"
      ],
      "text/plain": [
       "  CountryCode    Country TradeType PartnerCountryCode PartnerCountry  Year  \\\n",
       "0         AUS  Australia       EXP                AUT        Austria  2011   \n",
       "1         AUS  Australia       EXP                AUT        Austria  2012   \n",
       "2         AUS  Australia       EXP                AUT        Austria  2013   \n",
       "3         AUS  Australia       EXP                AUT        Austria  2014   \n",
       "4         AUS  Australia       EXP                AUT        Austria  2015   \n",
       "\n",
       "   TradeValue  \n",
       "0    73144918  \n",
       "1    71483059  \n",
       "2    67897422  \n",
       "3    61114752  \n",
       "4    54730242  "
      ]
     },
     "execution_count": 18,
     "metadata": {},
     "output_type": "execute_result"
    }
   ],
   "source": [
    "trade.head()"
   ]
  },
  {
   "cell_type": "markdown",
   "metadata": {},
   "source": [
    "## Task 5: Canadian Export Partner Analysis"
   ]
  },
  {
   "cell_type": "code",
   "execution_count": 19,
   "metadata": {},
   "outputs": [],
   "source": [
    "# Filter for Canada's export data\n",
    "canada_exports = trade[(trade['Country'] == 'Canada') & (trade['TradeType'] == 'EXP')].reset_index(drop=True)"
   ]
  },
  {
   "cell_type": "code",
   "execution_count": 20,
   "metadata": {},
   "outputs": [
    {
     "data": {
      "text/html": [
       "<div>\n",
       "<style scoped>\n",
       "    .dataframe tbody tr th:only-of-type {\n",
       "        vertical-align: middle;\n",
       "    }\n",
       "\n",
       "    .dataframe tbody tr th {\n",
       "        vertical-align: top;\n",
       "    }\n",
       "\n",
       "    .dataframe thead th {\n",
       "        text-align: right;\n",
       "    }\n",
       "</style>\n",
       "<table border=\"1\" class=\"dataframe\">\n",
       "  <thead>\n",
       "    <tr style=\"text-align: right;\">\n",
       "      <th></th>\n",
       "      <th>PartnerCountry</th>\n",
       "      <th>TradeValue</th>\n",
       "    </tr>\n",
       "  </thead>\n",
       "  <tbody>\n",
       "    <tr>\n",
       "      <th>0</th>\n",
       "      <td>United States</td>\n",
       "      <td>2954853365434</td>\n",
       "    </tr>\n",
       "    <tr>\n",
       "      <th>1</th>\n",
       "      <td>China (People's Republic of)</td>\n",
       "      <td>161732469853</td>\n",
       "    </tr>\n",
       "    <tr>\n",
       "      <th>2</th>\n",
       "      <td>United Kingdom</td>\n",
       "      <td>129051058180</td>\n",
       "    </tr>\n",
       "    <tr>\n",
       "      <th>3</th>\n",
       "      <td>Japan</td>\n",
       "      <td>85993761339</td>\n",
       "    </tr>\n",
       "    <tr>\n",
       "      <th>4</th>\n",
       "      <td>Mexico</td>\n",
       "      <td>51308771770</td>\n",
       "    </tr>\n",
       "    <tr>\n",
       "      <th>5</th>\n",
       "      <td>Korea</td>\n",
       "      <td>35003976970</td>\n",
       "    </tr>\n",
       "    <tr>\n",
       "      <th>6</th>\n",
       "      <td>Netherlands</td>\n",
       "      <td>30580138613</td>\n",
       "    </tr>\n",
       "    <tr>\n",
       "      <th>7</th>\n",
       "      <td>Germany</td>\n",
       "      <td>30400474236</td>\n",
       "    </tr>\n",
       "    <tr>\n",
       "      <th>8</th>\n",
       "      <td>India</td>\n",
       "      <td>25667456968</td>\n",
       "    </tr>\n",
       "    <tr>\n",
       "      <th>9</th>\n",
       "      <td>France</td>\n",
       "      <td>25081556454</td>\n",
       "    </tr>\n",
       "  </tbody>\n",
       "</table>\n",
       "</div>"
      ],
      "text/plain": [
       "                 PartnerCountry     TradeValue\n",
       "0                 United States  2954853365434\n",
       "1  China (People's Republic of)   161732469853\n",
       "2                United Kingdom   129051058180\n",
       "3                         Japan    85993761339\n",
       "4                        Mexico    51308771770\n",
       "5                         Korea    35003976970\n",
       "6                   Netherlands    30580138613\n",
       "7                       Germany    30400474236\n",
       "8                         India    25667456968\n",
       "9                        France    25081556454"
      ]
     },
     "execution_count": 20,
     "metadata": {},
     "output_type": "execute_result"
    }
   ],
   "source": [
    "# Aggregate total exports by partner country across all years\n",
    "total_exports = canada_exports.groupby('PartnerCountry')['TradeValue'].sum().reset_index()\n",
    "\n",
    "# Sort the total exports in descending order to get the top 10 export partners\n",
    "top10_exports = total_exports.sort_values('TradeValue', ascending=False).head(10).reset_index(drop=True)\n",
    "top10_exports"
   ]
  },
  {
   "cell_type": "code",
   "execution_count": 21,
   "metadata": {},
   "outputs": [],
   "source": [
    "# Filter for fixed top 10 export partners\n",
    "filtered_top_10 = canada_exports[canada_exports['PartnerCountry'].isin(top10_exports['PartnerCountry'])]"
   ]
  },
  {
   "cell_type": "code",
   "execution_count": 22,
   "metadata": {},
   "outputs": [],
   "source": [
    "# Rank export partners by year\n",
    "filtered_top_10 = filtered_top_10.copy()\n",
    "filtered_top_10['Rank'] = filtered_top_10.groupby('Year')['TradeValue'].rank(ascending=False).astype(int)"
   ]
  },
  {
   "cell_type": "code",
   "execution_count": 23,
   "metadata": {},
   "outputs": [],
   "source": [
    "# Pivot the data to get the top 10 export partners by year\n",
    "pivot_top_10 = filtered_top_10.pivot(index='Year', columns='PartnerCountry', values='Rank')"
   ]
  },
  {
   "cell_type": "code",
   "execution_count": 24,
   "metadata": {},
   "outputs": [
    {
     "data": {
      "image/png": "[encoded data removed]",
      "text/plain": [
       "<Figure size 1200x800 with 1 Axes>"
      ]
     },
     "metadata": {},
     "output_type": "display_data"
    }
   ],
   "source": [
    "# Plot the line chart\n",
    "plt.figure(figsize=(12, 8))  # Set the figure size\n",
    "\n",
    "# Plot each country's rank trend\n",
    "for country in pivot_top_10.columns:\n",
    "    plt.plot(pivot_top_10.index, pivot_top_10[country], label=country)\n",
    "    # Add annotation at the last year\n",
    "    last_year = pivot_top_10.index[-1]\n",
    "    last_rank = pivot_top_10[country].iloc[-1]\n",
    "    plt.text(last_year + 0.5, last_rank, country, verticalalignment='center', fontsize=10)\n",
    "\n",
    "plt.gca().invert_yaxis()  # Invert the y-axis to make rank 1 appear at the top\n",
    "\n",
    "# Add title and axis labels\n",
    "plt.title(\"Top 10 Export Partners of Canada (2010-2018)\", fontsize=16)\n",
    "plt.xlabel(\"Year\", fontsize=12)\n",
    "plt.ylabel(\"Rank\", fontsize=12)\n",
    "\n",
    "# Set custom y-axis ticks to increment by 1\n",
    "plt.yticks(np.arange(1, 11, 1))  # Range from 1 to 10 with step 1\n",
    "\n",
    "# Adjust layout to prevent text cut-off\n",
    "plt.subplots_adjust(right=0.85)  # Increase the right margin\n",
    "\n",
    "# Add grid\n",
    "plt.grid(axis='both', linestyle='--', alpha=0.7)\n",
    "\n",
    "# Show the plot\n",
    "plt.tight_layout()\n",
    "plt.show()"
   ]
  },
  {
   "cell_type": "markdown",
   "metadata": {},
   "source": [
    "### Identify Japan's Rank"
   ]
  },
  {
   "cell_type": "code",
   "execution_count": 25,
   "metadata": {},
   "outputs": [
    {
     "data": {
      "text/html": [
       "<div>\n",
       "<style scoped>\n",
       "    .dataframe tbody tr th:only-of-type {\n",
       "        vertical-align: middle;\n",
       "    }\n",
       "\n",
       "    .dataframe tbody tr th {\n",
       "        vertical-align: top;\n",
       "    }\n",
       "\n",
       "    .dataframe thead th {\n",
       "        text-align: right;\n",
       "    }\n",
       "</style>\n",
       "<table border=\"1\" class=\"dataframe\">\n",
       "  <thead>\n",
       "    <tr style=\"text-align: right;\">\n",
       "      <th></th>\n",
       "      <th>Year</th>\n",
       "      <th>Rank</th>\n",
       "    </tr>\n",
       "  </thead>\n",
       "  <tbody>\n",
       "    <tr>\n",
       "      <th>0</th>\n",
       "      <td>2010</td>\n",
       "      <td>4</td>\n",
       "    </tr>\n",
       "    <tr>\n",
       "      <th>1</th>\n",
       "      <td>2011</td>\n",
       "      <td>4</td>\n",
       "    </tr>\n",
       "    <tr>\n",
       "      <th>2</th>\n",
       "      <td>2012</td>\n",
       "      <td>4</td>\n",
       "    </tr>\n",
       "    <tr>\n",
       "      <th>3</th>\n",
       "      <td>2013</td>\n",
       "      <td>4</td>\n",
       "    </tr>\n",
       "    <tr>\n",
       "      <th>4</th>\n",
       "      <td>2014</td>\n",
       "      <td>4</td>\n",
       "    </tr>\n",
       "    <tr>\n",
       "      <th>5</th>\n",
       "      <td>2015</td>\n",
       "      <td>4</td>\n",
       "    </tr>\n",
       "    <tr>\n",
       "      <th>6</th>\n",
       "      <td>2016</td>\n",
       "      <td>4</td>\n",
       "    </tr>\n",
       "    <tr>\n",
       "      <th>7</th>\n",
       "      <td>2017</td>\n",
       "      <td>4</td>\n",
       "    </tr>\n",
       "    <tr>\n",
       "      <th>8</th>\n",
       "      <td>2018</td>\n",
       "      <td>4</td>\n",
       "    </tr>\n",
       "  </tbody>\n",
       "</table>\n",
       "</div>"
      ],
      "text/plain": [
       "   Year  Rank\n",
       "0  2010     4\n",
       "1  2011     4\n",
       "2  2012     4\n",
       "3  2013     4\n",
       "4  2014     4\n",
       "5  2015     4\n",
       "6  2016     4\n",
       "7  2017     4\n",
       "8  2018     4"
      ]
     },
     "execution_count": 25,
     "metadata": {},
     "output_type": "execute_result"
    }
   ],
   "source": [
    "# Filter for Japan's rank\n",
    "japan_rank = filtered_top_10[filtered_top_10['PartnerCountry'] == 'Japan'].reset_index(drop=True)\n",
    "\n",
    "# Dislpay Japan's rank by year\n",
    "japan_rank[['Year', 'Rank']]"
   ]
  },
  {
   "cell_type": "markdown",
   "metadata": {},
   "source": [
    "### Determine when China Overtakes the UK"
   ]
  },
  {
   "cell_type": "code",
   "execution_count": 26,
   "metadata": {},
   "outputs": [
    {
     "data": {
      "text/html": [
       "<div>\n",
       "<style scoped>\n",
       "    .dataframe tbody tr th:only-of-type {\n",
       "        vertical-align: middle;\n",
       "    }\n",
       "\n",
       "    .dataframe tbody tr th {\n",
       "        vertical-align: top;\n",
       "    }\n",
       "\n",
       "    .dataframe thead th {\n",
       "        text-align: right;\n",
       "    }\n",
       "</style>\n",
       "<table border=\"1\" class=\"dataframe\">\n",
       "  <thead>\n",
       "    <tr style=\"text-align: right;\">\n",
       "      <th>PartnerCountry</th>\n",
       "      <th>China (People's Republic of)</th>\n",
       "      <th>United Kingdom</th>\n",
       "    </tr>\n",
       "    <tr>\n",
       "      <th>Year</th>\n",
       "      <th></th>\n",
       "      <th></th>\n",
       "    </tr>\n",
       "  </thead>\n",
       "  <tbody>\n",
       "    <tr>\n",
       "      <th>2010</th>\n",
       "      <td>12861932302</td>\n",
       "      <td>15303925783</td>\n",
       "    </tr>\n",
       "    <tr>\n",
       "      <th>2011</th>\n",
       "      <td>16922234642</td>\n",
       "      <td>17599103521</td>\n",
       "    </tr>\n",
       "    <tr>\n",
       "      <th>2012</th>\n",
       "      <td>22440884541</td>\n",
       "      <td>16839187311</td>\n",
       "    </tr>\n",
       "    <tr>\n",
       "      <th>2013</th>\n",
       "      <td>19802180609</td>\n",
       "      <td>13092389068</td>\n",
       "    </tr>\n",
       "    <tr>\n",
       "      <th>2014</th>\n",
       "      <td>17472788454</td>\n",
       "      <td>13760764330</td>\n",
       "    </tr>\n",
       "    <tr>\n",
       "      <th>2015</th>\n",
       "      <td>16967593508</td>\n",
       "      <td>13308016260</td>\n",
       "    </tr>\n",
       "    <tr>\n",
       "      <th>2016</th>\n",
       "      <td>15827259404</td>\n",
       "      <td>12912053554</td>\n",
       "    </tr>\n",
       "    <tr>\n",
       "      <th>2017</th>\n",
       "      <td>18195008186</td>\n",
       "      <td>13637261151</td>\n",
       "    </tr>\n",
       "    <tr>\n",
       "      <th>2018</th>\n",
       "      <td>21242588207</td>\n",
       "      <td>12598357202</td>\n",
       "    </tr>\n",
       "  </tbody>\n",
       "</table>\n",
       "</div>"
      ],
      "text/plain": [
       "PartnerCountry  China (People's Republic of)  United Kingdom\n",
       "Year                                                        \n",
       "2010                             12861932302     15303925783\n",
       "2011                             16922234642     17599103521\n",
       "2012                             22440884541     16839187311\n",
       "2013                             19802180609     13092389068\n",
       "2014                             17472788454     13760764330\n",
       "2015                             16967593508     13308016260\n",
       "2016                             15827259404     12912053554\n",
       "2017                             18195008186     13637261151\n",
       "2018                             21242588207     12598357202"
      ]
     },
     "execution_count": 26,
     "metadata": {},
     "output_type": "execute_result"
    }
   ],
   "source": [
    "# Filter for China and UK data\n",
    "china_uk = filtered_top_10[filtered_top_10['PartnerCountry'].isin(['China (People\\'s Republic of)', 'United Kingdom'])]\n",
    "\n",
    "# Pivot the data to get the exports of China and UK by year\n",
    "pivot_china_uk = china_uk.pivot(index='Year', columns='PartnerCountry', values='TradeValue')\n",
    "pivot_china_uk"
   ]
  },
  {
   "cell_type": "code",
   "execution_count": 27,
   "metadata": {},
   "outputs": [
    {
     "name": "stdout",
     "output_type": "stream",
     "text": [
      "China overtakes the UK in Canada's exports in 2012\n"
     ]
    }
   ],
   "source": [
    "# Determine the yaer when China overtakes the UK in Canada's exports\n",
    "pivot_china_uk['ChinaOvertake'] = pivot_china_uk['China (People\\'s Republic of)'] > pivot_china_uk['United Kingdom']\n",
    "china_overtake_year = pivot_china_uk[pivot_china_uk['ChinaOvertake']].index.min()\n",
    "\n",
    "print(f\"China overtakes the UK in Canada's exports in {china_overtake_year}\")"
   ]
  }
 ],
 "metadata": {
  "kernelspec": {
   "display_name": "base",
   "language": "python",
   "name": "python3"
  },
  "language_info": {
   "codemirror_mode": {
    "name": "ipython",
    "version": 3
   },
   "file_extension": ".py",
   "mimetype": "text/x-python",
   "name": "python",
   "nbconvert_exporter": "python",
   "pygments_lexer": "ipython3",
   "version": "3.12.2"
  }
 },
 "nbformat": 4,
 "nbformat_minor": 2
}
